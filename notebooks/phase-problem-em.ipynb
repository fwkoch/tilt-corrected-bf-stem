{
 "cells": [
  {
   "cell_type": "markdown",
   "id": "99be3bf0-cbf7-46a3-86f8-1867e35aa915",
   "metadata": {},
   "source": [
    "# Phase Problem in Electron Microscopy\n",
    "\n",
    "\n",
    "> Georgios Varnavides | 07/16/2024  \n",
    "> National Center for Electron Microscopy, Molecular Foundry, Berkeley Lab"
   ]
  },
  {
   "cell_type": "code",
   "execution_count": 1,
   "id": "c4ce37c1-54bd-4ea4-b36b-66306b6da52e",
   "metadata": {},
   "outputs": [],
   "source": [
    "%matplotlib widget\n",
    "\n",
    "import tcbf\n",
    "import numpy as np\n",
    "import matplotlib.pyplot as plt\n",
    "\n",
    "from IPython.display import display\n",
    "import ipywidgets\n",
    "\n",
    "# from ipywidgets import HBox, VBox, FloatSlider, FloatLogSlider, Checkbox"
   ]
  },
  {
   "cell_type": "code",
   "execution_count": 2,
   "id": "d17bae5e-c220-4e70-a8bd-7611f342d336",
   "metadata": {},
   "outputs": [],
   "source": [
    "file_name = \"apoF-ice-embedded-potential-binned.npy\"\n",
    "binned_volume_zxy = np.load(\"data/\"+file_name)"
   ]
  },
  {
   "cell_type": "code",
   "execution_count": 3,
   "id": "8ad11b3d-3019-45ef-b8fb-bd45b1037f05",
   "metadata": {},
   "outputs": [],
   "source": [
    "style = {\n",
    "    'description_width': 'initial',\n",
    "}\n",
    "\n",
    "defocus_slider = ipywidgets.FloatSlider(\n",
    "    value = 0, min = -2, max = 2, \n",
    "    step = 0.05,\n",
    "    description = r\"defocus [$\\mu$m]\",\n",
    "    style = style,\n",
    ")\n",
    "\n",
    "\n",
    "electrons_per_area_slider = ipywidgets.FloatLogSlider(\n",
    "    value=1000,\n",
    "    base=10,\n",
    "    min=1, # min exponent of base\n",
    "    max=3, # max exponent of base\n",
    "    step=0.05, # exponent step\n",
    "    description = r\"electron dose [e/A$^2$]\",\n",
    "    style = style,\n",
    ")\n",
    "\n",
    "show_zernike_switch = ipywidgets.Checkbox(\n",
    "    value=False,\n",
    "    description=\"Zernike phase-plate\",\n",
    "    style=style,\n",
    ")\n",
    "\n",
    "def toggle_zernike(change):\n",
    "    show_zernike = change['new']\n",
    "    axs[1].axis(\"on\" if show_zernike else \"off\")\n",
    "    fig.canvas.draw_idle()\n",
    "    return None\n",
    "\n",
    "show_zernike_switch.observe(toggle_zernike,names='value')"
   ]
  },
  {
   "cell_type": "code",
   "execution_count": 4,
   "id": "58965f07-8c68-44df-ae1a-89dcfe50109a",
   "metadata": {},
   "outputs": [],
   "source": [
    "# constants\n",
    "semiangle = 4  # mrad\n",
    "wavelength = 0.0197  # A (300kV)\n",
    "sigma = 0.00065  # 1/V (300kV)\n",
    "rolloff = 0.125  # mrad"
   ]
  },
  {
   "cell_type": "code",
   "execution_count": 5,
   "id": "522040b5-43b3-45bd-a9c2-8589ba6d72e4",
   "metadata": {},
   "outputs": [],
   "source": [
    "# PotentialArray\n",
    "\n",
    "pixel_size = 2 / 3\n",
    "bin_factor_xy = 2\n",
    "bin_factor_z = 6\n",
    "\n",
    "potential = tcbf.PotentialArray(\n",
    "    binned_volume_zxy,\n",
    "    slice_thickness=pixel_size * bin_factor_z,\n",
    "    sampling=(pixel_size * bin_factor_xy, pixel_size * bin_factor_xy),\n",
    ")\n",
    "\n",
    "potential.slice_thickness += 1e4 * defocus_slider.value / binned_volume_zxy.shape[0]"
   ]
  },
  {
   "cell_type": "code",
   "execution_count": 6,
   "id": "beb4c453-358e-4c7d-b22c-74984e3b349f",
   "metadata": {},
   "outputs": [],
   "source": [
    "# Tilted Plane Wave\n",
    "tilted_plane_wave = tcbf.Waves(\n",
    "    array=np.ones(potential.gpts, dtype=np.complex64),\n",
    "    sampling=potential.sampling,\n",
    "    wavelength=wavelength,\n",
    "    sigma=sigma,\n",
    "    tilt=(0, 0),\n",
    ")"
   ]
  },
  {
   "cell_type": "code",
   "execution_count": 7,
   "id": "ddcd9533-1dab-48f2-80d0-f2bd1af267c3",
   "metadata": {},
   "outputs": [],
   "source": [
    "# CTF\n",
    "ctf = tcbf.CTF(\n",
    "    semiangle_cutoff=semiangle,\n",
    "    rolloff=rolloff,\n",
    ")"
   ]
  },
  {
   "cell_type": "code",
   "execution_count": 8,
   "id": "68be7cf7-245f-4486-8959-7a4392952fd2",
   "metadata": {},
   "outputs": [],
   "source": [
    "# Angles\n",
    "alpha, phi = tilted_plane_wave.get_scattering_angles()\n",
    "bright_field_disk = np.fft.fftshift(ctf.evaluate_aperture(alpha, phi))"
   ]
  },
  {
   "cell_type": "code",
   "execution_count": 9,
   "id": "8a907a3a-deb8-4dae-b09a-8e52bfc3d97d",
   "metadata": {},
   "outputs": [],
   "source": [
    "# Exit Waves\n",
    "\n",
    "exit_wave = tilted_plane_wave.multislice(potential)\n",
    "exit_wave = np.random.poisson(\n",
    "    (\n",
    "        np.abs(exit_wave) ** 2\n",
    "        * np.prod(potential.sampling)\n",
    "        * electrons_per_area_slider.value\n",
    "    ).clip(0)\n",
    ")\n",
    "# exit_wave_zernike = np.fft.fft2(exit_wave)\n",
    "# if show_zernike:\n",
    "#     zernike_kernel = np.zeros_like(np.abs(exit_wave_zernike))\n",
    "#     zernike_kernel[0, 0] = np.pi / 2\n",
    "#     zernike_kernel = np.exp(1j * zernike_kernel)\n",
    "#     exit_wave_zernike = np.fft.ifft2(exit_wave_zernike * zernike_kernel)\n",
    "#     exit_wave_zernike = np.random.poisson(\n",
    "#         (\n",
    "#             np.abs(exit_wave_zernike) ** 2\n",
    "#             * np.prod(potential.sampling)\n",
    "#             * electrons_per_area\n",
    "#         ).clip(0)\n",
    "#     )\n",
    "\n"
   ]
  },
  {
   "cell_type": "code",
   "execution_count": 10,
   "id": "632b8e94-c8d5-443f-8d10-e57b56661fb0",
   "metadata": {},
   "outputs": [
    {
     "data": {
      "text/plain": [
       "(np.float64(0.0), np.float64(1.0), np.float64(0.0), np.float64(1.0))"
      ]
     },
     "execution_count": 10,
     "metadata": {},
     "output_type": "execute_result"
    }
   ],
   "source": [
    "# Figures\n",
    "\n",
    "with plt.ioff():\n",
    "    dpi = 72\n",
    "    fig, axs = plt.subplots(1,2, figsize=(675/dpi, 325/dpi), dpi=dpi)\n",
    "\n",
    "tcbf.show(\n",
    "    exit_wave,\n",
    "    ticks=False,\n",
    "    figax=(fig, axs[0]),\n",
    "    cbar=False,\n",
    ")\n",
    "\n",
    "axs[0].set_title(\n",
    "    \"CTEM image intensity\",\n",
    "    fontsize=12,\n",
    ")\n",
    "\n",
    "tcbf.add_scalebar(\n",
    "    axs[0],\n",
    "    color=\"black\",\n",
    "    sampling=pixel_size * bin_factor_xy / 10,\n",
    "    length=30,\n",
    "    units=\"nm\",\n",
    ")\n",
    "axs[1].axis(\"off\")\n",
    "\n",
    "    # tcbf.show(\n",
    "    #     exit_wave_zernike,\n",
    "    #     ticks=False,\n",
    "    #     figax=(fig, axs[1]),\n",
    "    #     cbar=False,\n",
    "    # )\n",
    "\n",
    "    # axs[1].set_title(\n",
    "    #     \"Zernike phase-plate intensity\",\n",
    "    #     fontsize=12,\n",
    "    # )\n",
    "\n",
    "    # tcbf.add_scalebar(\n",
    "    #     axs[1],\n",
    "    #     color=\"white\",\n",
    "    #     sampling=pixel_size * bin_factor_xy / 10,\n",
    "    #     length=30,\n",
    "    #     units=\"nm\",\n",
    "    # )\n"
   ]
  },
  {
   "cell_type": "code",
   "execution_count": 11,
   "id": "4a1af72d-aa89-42ff-83f9-da3c10cb9f2a",
   "metadata": {},
   "outputs": [
    {
     "data": {
      "application/vnd.jupyter.widget-view+json": {
       "model_id": "8a6d97f778fd4d3a991284862f6d2776",
       "version_major": 2,
       "version_minor": 0
      },
      "text/plain": [
       "VBox(children=(Canvas(toolbar=Toolbar(toolitems=[('Home', 'Reset original view', 'home', 'home'), ('Back', 'Ba…"
      ]
     },
     "metadata": {},
     "output_type": "display_data"
    }
   ],
   "source": [
    "display(\n",
    "    ipywidgets.VBox([\n",
    "        fig.canvas,\n",
    "        show_zernike_switch\n",
    "    ])\n",
    ")"
   ]
  }
 ],
 "metadata": {
  "kernelspec": {
   "display_name": "Python 3 (ipykernel)",
   "language": "python",
   "name": "python3"
  },
  "language_info": {
   "codemirror_mode": {
    "name": "ipython",
    "version": 3
   },
   "file_extension": ".py",
   "mimetype": "text/x-python",
   "name": "python",
   "nbconvert_exporter": "python",
   "pygments_lexer": "ipython3",
   "version": "3.12.4"
  }
 },
 "nbformat": 4,
 "nbformat_minor": 5
}
